{
 "cells": [
  {
   "cell_type": "code",
   "execution_count": 2,
   "metadata": {
    "collapsed": false
   },
   "outputs": [],
   "source": [
    "%matplotlib inline\n",
    "import ivy\n",
    "from ivy.chars import discrete\n",
    "import numpy as np\n",
    "from ivy.chars import bayesian_models\n",
    "import pymc\n",
    "import matplotlib.pyplot as plt\n",
    "from ivy.chars.expokit import cyexpokit\n",
    "import math\n"
   ]
  },
  {
   "cell_type": "code",
   "execution_count": 18,
   "metadata": {
    "collapsed": true
   },
   "outputs": [],
   "source": [
    "# Hidden-rates model with backpasses to determine the most likely tip states\n",
    "\n",
    "# The tree and tip character states\n",
    "# This phylogeny consists of two sister clades of ten species each. \n",
    "# One clade has all of its tips in state 1 corresponding to a rate value of 0\n",
    "# The other clade has a mixture of states 0 and 1 corresponding to a rate value of 5.5\n",
    "tree = ivy.tree.read(\"((1:1,(2:0.8606963753,(((3:0.05717681656,4:0.05717681656):0.1249697997,5:0.1821466162):0.4326289449,((6:0.02675514074,7:0.02675514074):0.3210121364,(8:0.2582442539,(9:0.0832722267,10:0.0832722267):0.1749720272):0.08952302326):0.2670082839):0.2459208142):0.1393036247):1,((((11:0.04422729573,12:0.04422729573):0.4961649323,(13:0.3446901329,14:0.3446901329):0.1957020951):0.2248653717,(((15:0.009354454367,16:0.009354454367):0.06248862166,(17:0.02880343044,18:0.02880343044):0.04303964559):0.148588294,19:0.22043137):0.5448262298):0.2347424003,20:1):1):0;\")\n",
    "chars = [1, 1, 1, 1, 1, 1, 1, 1, 1, 1, 0, 0, 0, 1, 1, 1, 0, 0, 1, 1]\n",
    "\n",
    "# The generating Q matrix\n",
    "Q = ivy.chars.discrete.fill_Q_matrix(2,2, [0.0,1.0,0.00,1.0,1.0,5.5,1.0,5.5])\n",
    "# The three parameters of the Q matrix are:\n",
    "# 1. Slow rate: 0.0\n",
    "# 2. Transition rate: 1.0\n",
    "# 3. Fast rate: 5.5\n",
    "\n",
    "# The original corHMM code calculates the likelihood of the tree with the tip probabilities set to 1 for each hidden\n",
    "# state of the observed state. However, we do have some information about which hidden state is more likely based\n",
    "# on the most likely hidden state of the clade it is nested in. For instance, the tips in the first sister group\n",
    "# are more likely in the slow state than the fast one because that entire clade is one state. Likewise,\n",
    "# the tips in the second sister group are more likely in the fast state because of how quickly the \n",
    "# state changes in that clade.\n",
    "\n",
    "# Here we use marginal state reconstruction to reconstruct the hidden states at the tips."
   ]
  },
  {
   "cell_type": "code",
   "execution_count": 19,
   "metadata": {
    "collapsed": false,
    "scrolled": true
   },
   "outputs": [
    {
     "data": {
      "text/plain": [
       "(array([[  1.22068327e-03,   4.40114086e-02,   7.24708218e-03,\n",
       "           1.09138954e-02,   1.80000000e+01],\n",
       "        [  2.03389090e-04,   1.51138519e-02,   1.76523144e-03,\n",
       "           2.84896178e-03,   1.70000000e+01],\n",
       "        [  1.28331158e-07,   7.62627456e-04,   3.29829050e-05,\n",
       "           1.66522861e-04,   4.00000000e+00],\n",
       "        [  1.28331158e-07,   7.62627456e-04,   3.29829050e-05,\n",
       "           1.66522861e-04,   4.00000000e+00],\n",
       "        [  3.93148118e-06,   2.00768322e-03,   1.58385297e-04,\n",
       "           3.50255302e-04,   6.00000000e+00],\n",
       "        [  5.75544146e-08,   8.45122877e-04,   2.03968959e-05,\n",
       "           2.05038907e-04,   9.00000000e+00],\n",
       "        [  5.75544146e-08,   8.45122877e-04,   2.03968959e-05,\n",
       "           2.05038907e-04,   9.00000000e+00],\n",
       "        [  6.20590853e-07,   8.45420674e-04,   4.08631739e-05,\n",
       "           8.87892549e-05,   1.40000000e+01],\n",
       "        [  8.64062098e-08,   2.96083919e-04,   1.32623159e-05,\n",
       "           5.06983427e-05,   1.30000000e+01],\n",
       "        [  8.64062098e-08,   2.96083919e-04,   1.32623159e-05,\n",
       "           5.06983427e-05,   1.30000000e+01],\n",
       "        [  3.60349979e-04,   2.57248103e-06,   5.00632761e-04,\n",
       "           1.20169417e-04,   2.10000000e+01],\n",
       "        [  3.60349979e-04,   2.57248103e-06,   5.00632761e-04,\n",
       "           1.20169417e-04,   2.10000000e+01],\n",
       "        [  4.88379531e-05,   2.29364153e-04,   2.37249164e-04,\n",
       "           2.70299698e-04,   2.40000000e+01],\n",
       "        [  4.14113429e-04,   2.70497767e-05,   2.81465139e-04,\n",
       "           2.27837727e-04,   2.40000000e+01],\n",
       "        [  1.45084908e-08,   5.03474525e-06,   6.06236576e-06,\n",
       "           6.55372692e-05,   2.80000000e+01],\n",
       "        [  1.45084908e-08,   5.03474525e-06,   6.06236576e-06,\n",
       "           6.55372692e-05,   2.80000000e+01],\n",
       "        [  3.10801888e-06,   7.35019731e-07,   6.52269412e-05,\n",
       "           2.24616649e-05,   3.10000000e+01],\n",
       "        [  3.10801888e-06,   7.35019731e-07,   6.52269412e-05,\n",
       "           2.24616649e-05,   3.10000000e+01],\n",
       "        [  3.03954409e-04,   2.25110582e-04,   1.69059408e-03,\n",
       "           1.59765905e-03,   3.40000000e+01],\n",
       "        [  1.08144244e-02,   1.09499232e-02,   1.94342511e-02,\n",
       "           1.97934995e-02,   3.70000000e+01]]), -24.048460500427286)"
      ]
     },
     "execution_count": 19,
     "metadata": {},
     "output_type": "execute_result"
    }
   ],
   "source": [
    "# The first pass\n",
    "# Note: rather than setting the probability to 1 for each tip being in each hidden state, the probability\n",
    "# is instead set to 1/n, where n is the number of hidden states (in this case, each probability is set to 0.5)\n",
    "# This makes it easier to compare these likelihoods to the ones generated by further passes\n",
    "firstpass = ivy.chars.hrm.hrm_back_mk(tree, chars, Q, 2)\n",
    "\n",
    "# This function returns a tuple of length 2, with the first element being the reconstructed states at the tips and\n",
    "# the second element being the log-likelihood of the FIRST PASS of the Mk model.\n",
    "\n",
    "# In this case as we have not provided any values for the tip states, we simply calculate the likelihood\n",
    "# for the default hidden-state mk model. The tip states that are returned can be fed back into the model\n",
    "# to calculate a new likelihood. \n",
    "firstpass"
   ]
  },
  {
   "cell_type": "code",
   "execution_count": 20,
   "metadata": {
    "collapsed": false
   },
   "outputs": [
    {
     "data": {
      "text/plain": [
       "array([ 0.00122068,  0.04401141,  0.00724708,  0.0109139 ])"
      ]
     },
     "execution_count": 20,
     "metadata": {},
     "output_type": "execute_result"
    }
   ],
   "source": [
    "# Note that the tip states returned have non-zero likelihoods of being in the non-observed state (i.e., \n",
    "# tips observed to have state 1 have a nonzero likelihood of being in the 0 states.)\n",
    "\n",
    "# The function takes these likelihoods and converts them to probabilities using ONLY the likelihoods \n",
    "# for the observed states. \n",
    "\n",
    "# For instance, tip 1 (which is observed to be in state 1) goes from this\n",
    "firstpass[0][0,:-1]\n"
   ]
  },
  {
   "cell_type": "code",
   "execution_count": 22,
   "metadata": {
    "collapsed": false
   },
   "outputs": [
    {
     "data": {
      "text/plain": [
       "array([ 0.        ,  0.80129568,  0.        ,  0.19870432])"
      ]
     },
     "execution_count": 22,
     "metadata": {},
     "output_type": "execute_result"
    }
   ],
   "source": [
    "# To this\n",
    "firstpass[0][0,:-1]*[0,1,0,1]/sum(firstpass[0][0,:-1]*[0,1,0,1])\n",
    "\n",
    "# Note that the probability of this tip being in the slow state is higher than it being in the fast state, \n",
    "# as we would hope to see for this case"
   ]
  },
  {
   "cell_type": "code",
   "execution_count": 24,
   "metadata": {
    "collapsed": false
   },
   "outputs": [
    {
     "data": {
      "text/plain": [
       "(array([[  5.97489490e-04,   4.86481216e-02,   4.89047138e-03,\n",
       "           8.84185398e-03,   1.80000000e+01],\n",
       "        [  8.44828572e-05,   1.94784603e-02,   1.18015571e-03,\n",
       "           2.32259986e-03,   1.70000000e+01],\n",
       "        [  3.26410381e-08,   2.93225441e-03,   1.18899450e-05,\n",
       "           9.30721655e-05,   4.00000000e+00],\n",
       "        [  3.26410381e-08,   2.93225441e-03,   1.18899450e-05,\n",
       "           9.30721655e-05,   4.00000000e+00],\n",
       "        [  7.25417349e-07,   4.82967088e-03,   5.00267315e-05,\n",
       "           1.84059787e-04,   6.00000000e+00],\n",
       "        [  2.49693706e-08,   2.98139713e-03,   1.24826030e-05,\n",
       "           1.51004998e-04,   9.00000000e+00],\n",
       "        [  2.49693706e-08,   2.98139713e-03,   1.24826030e-05,\n",
       "           1.51004998e-04,   9.00000000e+00],\n",
       "        [  6.48374122e-08,   3.08505599e-03,   1.02276263e-05,\n",
       "           5.42922526e-05,   1.40000000e+01],\n",
       "        [  2.85240478e-08,   1.86127530e-03,   7.65627115e-06,\n",
       "           4.96935066e-05,   1.30000000e+01],\n",
       "        [  2.85240478e-08,   1.86127530e-03,   7.65627115e-06,\n",
       "           4.96935066e-05,   1.30000000e+01],\n",
       "        [  3.25888556e-04,   2.45146361e-06,   6.32021129e-04,\n",
       "           1.49831748e-04,   2.10000000e+01],\n",
       "        [  3.25888556e-04,   2.45146361e-06,   6.32021129e-04,\n",
       "           1.49831748e-04,   2.10000000e+01],\n",
       "        [  7.66118861e-05,   1.16634878e-04,   3.96034830e-04,\n",
       "           4.12885972e-04,   2.40000000e+01],\n",
       "        [  2.33026933e-04,   4.21976570e-05,   4.08964195e-04,\n",
       "           3.63369705e-04,   2.40000000e+01],\n",
       "        [  1.49495044e-08,   2.15454914e-06,   3.70591407e-05,\n",
       "           3.98624951e-04,   2.80000000e+01],\n",
       "        [  1.49495044e-08,   2.15454914e-06,   3.70591407e-05,\n",
       "           3.98624951e-04,   2.80000000e+01],\n",
       "        [  1.32392540e-06,   1.64813733e-07,   3.57694541e-04,\n",
       "           1.10683765e-04,   3.10000000e+01],\n",
       "        [  1.32392540e-06,   1.64813733e-07,   3.57694541e-04,\n",
       "           1.10683765e-04,   3.10000000e+01],\n",
       "        [  2.21192264e-04,   2.06320031e-04,   1.92300105e-03,\n",
       "           1.83371885e-03,   3.40000000e+01],\n",
       "        [  8.72711903e-03,   1.04320556e-02,   2.06314294e-02,\n",
       "           2.13340102e-02,   3.70000000e+01]]), -17.19004118097576)"
      ]
     },
     "execution_count": 24,
     "metadata": {},
     "output_type": "execute_result"
    }
   ],
   "source": [
    "# The second pass\n",
    "# We provide the reconstructed tip states and calculate the likelihood using the probability vectors provided by the\n",
    "# first pass\n",
    "secondpass = ivy.chars.hrm.hrm_back_mk(tree, chars, Q, 2, tip_states = firstpass[0])\n",
    "\n",
    "secondpass"
   ]
  },
  {
   "cell_type": "code",
   "execution_count": 25,
   "metadata": {
    "collapsed": true
   },
   "outputs": [],
   "source": [
    "# We see that the likelihood has increased from ~24 to ~17. \n",
    "# In theory, we can use these reconstructed tips to once again calculate the likelihood.\n",
    "# We can potentially reach a stationary set of probability vectors for the tips.\n",
    "\n",
    "# Let's set up a loop that performs this process 50 times and see how the likelihood is affected\n",
    "\n",
    "liks = np.zeros(50)\n",
    "\n",
    "tmp = ivy.chars.hrm.hrm_back_mk(tree, chars, Q, 2)\n",
    "for i in range(50):\n",
    "    tmp = ivy.chars.hrm.hrm_back_mk(tree, chars, Q, 2, tip_states=tmp[0])\n",
    "    liks[i] = tmp[1]"
   ]
  },
  {
   "cell_type": "code",
   "execution_count": 26,
   "metadata": {
    "collapsed": false
   },
   "outputs": [
    {
     "data": {
      "text/plain": [
       "[<matplotlib.lines.Line2D at 0x7ff03fb62810>]"
      ]
     },
     "execution_count": 26,
     "metadata": {},
     "output_type": "execute_result"
    },
    {
     "data": {
      "image/png": "[encoded data removed]",
      "text/plain": [
       "<matplotlib.figure.Figure at 0x7ff04c085b50>"
      ]
     },
     "metadata": {},
     "output_type": "display_data"
    }
   ],
   "source": [
    "plt.plot(liks)"
   ]
  },
  {
   "cell_type": "code",
   "execution_count": 28,
   "metadata": {
    "collapsed": false
   },
   "outputs": [
    {
     "name": "stdout",
     "output_type": "stream",
     "text": [
      "[ 0.          0.85100695  0.          0.14899305]\n",
      "[ 0.          0.89816418  0.          0.10183582]\n",
      "[ 0.          0.99299273  0.          0.00700727]\n",
      "[ 0.          0.99299273  0.          0.00700727]\n",
      "[ 0.          0.97151471  0.          0.02848529]\n",
      "[ 0.          0.99349576  0.          0.00650424]\n",
      "[ 0.          0.99349576  0.          0.00650424]\n",
      "[ 0.          0.98568234  0.          0.01431766]\n",
      "[ 0.          0.98958643  0.          0.01041357]\n",
      "[ 0.          0.98958643  0.          0.01041357]\n",
      "[ 0.07921676  0.          0.92078324  0.        ]\n",
      "[ 0.07921676  0.          0.92078324  0.        ]\n",
      "[ 0.09589734  0.          0.90410266  0.        ]\n",
      "[ 0.          0.11506374  0.          0.88493626]\n",
      "[  0.00000000e+00   6.12128433e-04   0.00000000e+00   9.99387872e-01]\n",
      "[  0.00000000e+00   6.12128433e-04   0.00000000e+00   9.99387872e-01]\n",
      "[ 0.00138606  0.          0.99861394  0.        ]\n",
      "[ 0.00138606  0.          0.99861394  0.        ]\n",
      "[ 0.          0.10618848  0.          0.89381152]\n",
      "[ 0.          0.34004194  0.          0.65995806]\n"
     ]
    }
   ],
   "source": [
    "# We reach some sort of stationary distribution after ~10 repetitions\n",
    "# What do the tip vectors look like?\n",
    "for i,s in enumerate(chars):\n",
    "    prob = tmp[0][i,:-1]*[abs(s-k) for k in [1,0,1,0]]/sum(tmp[0][i,:-1]*[abs(s-k) for k in [1,0,1,0]])\n",
    "    print prob\n"
   ]
  },
  {
   "cell_type": "code",
   "execution_count": null,
   "metadata": {
    "collapsed": true
   },
   "outputs": [],
   "source": [
    "# The reconstructed states at the tips coincide with our expectations of the first 10 tips being in the slow regime\n",
    "# and the last 10 tips being in the fast regime.\n",
    "\n",
    "# I wonder if there is a way to get this vector analytically, without performing multiple backpasses."
   ]
  }
 ],
 "metadata": {
  "kernelspec": {
   "display_name": "Python 2",
   "language": "python",
   "name": "python2"
  },
  "language_info": {
   "codemirror_mode": {
    "name": "ipython",
    "version": 2
   },
   "file_extension": ".py",
   "mimetype": "text/x-python",
   "name": "python",
   "nbconvert_exporter": "python",
   "pygments_lexer": "ipython2",
   "version": "2.7.10"
  }
 },
 "nbformat": 4,
 "nbformat_minor": 0
}
