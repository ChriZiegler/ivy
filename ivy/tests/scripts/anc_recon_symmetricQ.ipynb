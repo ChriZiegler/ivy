{
 "cells": [
  {
   "cell_type": "code",
   "execution_count": 1,
   "metadata": {
    "collapsed": true
   },
   "outputs": [],
   "source": [
    "# Calculations to perform ancestral state reconstruction on a 4-tip tree for a binary character\n",
    "# with an asymmetric Q matrix."
   ]
  },
  {
   "cell_type": "code",
   "execution_count": 1,
   "metadata": {
    "collapsed": true
   },
   "outputs": [],
   "source": [
    "%matplotlib inline\n",
    "import ivy\n",
    "import numpy as np\n",
    "from scipy.linalg import expm"
   ]
  },
  {
   "cell_type": "code",
   "execution_count": 2,
   "metadata": {
    "collapsed": false
   },
   "outputs": [],
   "source": [
    "tree = ivy.tree.read(\"(((A:1,B:1)E:1,C:2)F:1,D:3)R;\")\n",
    "chars = [1,1,0,0]\n",
    "Q = np.array([[-0.1,0.1],[0.1,-0.1]])"
   ]
  },
  {
   "cell_type": "code",
   "execution_count": 3,
   "metadata": {
    "collapsed": false
   },
   "outputs": [
    {
     "name": "stdout",
     "output_type": "stream",
     "text": [
      "                               ---------------+ A \n",
      "                --------------E+                  \n",
      " --------------F+              ---------------+ B \n",
      " :              :                                 \n",
      "R+              ------------------------------+ C \n",
      " :                                                \n",
      " ---------------------------------------------+ D \n"
     ]
    }
   ],
   "source": [
    "print tree.ascii()"
   ]
  },
  {
   "cell_type": "code",
   "execution_count": 4,
   "metadata": {
    "collapsed": false
   },
   "outputs": [
    {
     "name": "stdout",
     "output_type": "stream",
     "text": [
      "[[-0.1  0.1]\n",
      " [ 0.1 -0.1]]\n"
     ]
    }
   ],
   "source": [
    "print Q"
   ]
  },
  {
   "cell_type": "code",
   "execution_count": 5,
   "metadata": {
    "collapsed": false
   },
   "outputs": [
    {
     "name": "stdout",
     "output_type": "stream",
     "text": [
      "A 1\n",
      "B 1\n",
      "C 0\n",
      "D 0\n"
     ]
    }
   ],
   "source": [
    "for i,n in enumerate(tree.leaves()):\n",
    "    print n.label, chars[i]"
   ]
  },
  {
   "cell_type": "code",
   "execution_count": 6,
   "metadata": {
    "collapsed": true
   },
   "outputs": [],
   "source": [
    "### Step one: provide downpass likelihoods for each tip for each state. Likelihood of observed state is 1,\n",
    "# likelihood of non-observed state is 0\n",
    "\n",
    "# DLXN: Downpass likelihood of state X for node N\n",
    "DL0A = 0;DL1A = 1;DL0B = 0;DL1B = 1;DL0C = 1;DL1C = 0;DL0D = 1;DL1D = 0"
   ]
  },
  {
   "cell_type": "code",
   "execution_count": 7,
   "metadata": {
    "collapsed": false
   },
   "outputs": [
    {
     "name": "stdout",
     "output_type": "stream",
     "text": [
      "[[ 0.90936538  0.09063462]\n",
      " [ 0.09063462  0.90936538]]\n",
      "[[ 0.83516002  0.16483998]\n",
      " [ 0.16483998  0.83516002]]\n",
      "[[ 0.77440582  0.22559418]\n",
      " [ 0.22559418  0.77440582]]\n"
     ]
    }
   ],
   "source": [
    "### Step two: calculate transition probability matrices for each branch by \n",
    "### performing matrix exponentiation * branch length\n",
    "\n",
    "# Step two-a: calculate probability matrices for all branch lengths present\n",
    "\n",
    "# P_T = Transition probability matrix for branch of length T\n",
    "P_1 = expm(Q * 1)\n",
    "P_2 = expm(Q * 2)\n",
    "P_3 = expm(Q * 3)\n",
    "\n",
    "print P_1\n",
    "print P_2\n",
    "print P_3"
   ]
  },
  {
   "cell_type": "code",
   "execution_count": 8,
   "metadata": {
    "collapsed": true
   },
   "outputs": [],
   "source": [
    "# Step two-b: assign each node its corresponding probability transition rates based on its length\n",
    "\n",
    "#PXYN: Probability of transitioning from state X to state Y along the branch subtending node N\n",
    "\n",
    "# The 1-length branches\n",
    "P00F = P00E = P00B = P00A = P_1[0,0]\n",
    "P01F = P01E = P01B = P01A = P_1[0,1]\n",
    "P11F = P11E = P11B = P11A = P_1[1,1]\n",
    "P10F = P10E = P10B = P10A = P_1[1,0]\n",
    "\n",
    "# The 2-length branch\n",
    "P00C = P_2[0,0]\n",
    "P01C = P_2[0,1]\n",
    "P11C = P_2[1,1]\n",
    "P10C = P_2[1,0]\n",
    "\n",
    "# The 3-length branch\n",
    "P00D = P_3[0,0]\n",
    "P01D = P_3[0,1]\n",
    "P11D = P_3[1,1]\n",
    "P10D = P_3[1,0]"
   ]
  },
  {
   "cell_type": "code",
   "execution_count": 9,
   "metadata": {
    "collapsed": false
   },
   "outputs": [
    {
     "name": "stdout",
     "output_type": "stream",
     "text": [
      "0.00821463496992 0.826945388048\n",
      "0.0688338794853 0.124081649965\n",
      "0.0571830861465 0.026862466839\n"
     ]
    }
   ],
   "source": [
    "# Step three: Calculate the down-pass (conditional) likelihood of each internal node\n",
    "\n",
    "# First we calculate \"partial\" likelihoods of each node being in a given state using only information\n",
    "# from one child. \n",
    "\n",
    "# Then we calculate the full conditional likelihood by taking the product of these partial likelihoods\n",
    "\n",
    "# Node E\n",
    "# P_DLXN_M: \"Partial\" down-pass likelihood of node N being in state X given only information from child node M\n",
    "P_DL0E_A = (P00A * DL0A + P01A * DL1A)\n",
    "P_DL0E_B = (P00B * DL0B + P01B * DL1B)\n",
    "\n",
    "P_DL1E_A = (P10A * DL0A + P11A * DL1A)\n",
    "P_DL1E_B = (P10B * DL0B + P11B * DL1B)\n",
    "\n",
    "# DLXN: Full down-pass likelihood of node N being in state X\n",
    "DL0E = P_DL0E_A * P_DL0E_B\n",
    "DL1E = P_DL1E_A * P_DL1E_B\n",
    "\n",
    "# Node F\n",
    "P_DL0F_E = (P00E * DL0E + P01E * DL1E)\n",
    "P_DL0F_C = (P00C * DL0C + P01C * DL1C)\n",
    "\n",
    "P_DL1F_E = (P10E * DL0E + P11E * DL1E)\n",
    "P_DL1F_C = (P10C * DL0C + P11C * DL1C)\n",
    "\n",
    "DL0F = P_DL0F_E * P_DL0F_C\n",
    "DL1F = P_DL1F_E * P_DL1F_C\n",
    "\n",
    "# Node R (root)\n",
    "P_DL0R_F = (P00F * DL0F + P01F * DL1F)\n",
    "P_DL0R_D = (P00D * DL0D + P01D * DL1D)\n",
    "\n",
    "P_DL1R_F = (P10F * DL0F + P11F * DL1F)\n",
    "P_DL1R_D = (P10D * DL0D + P11D * DL1D)\n",
    "\n",
    "DL0R = P_DL0R_F * P_DL0R_D\n",
    "DL1R = P_DL1R_F * P_DL1R_D\n",
    "\n",
    "print DL0E, DL1E\n",
    "print DL0F, DL1F\n",
    "print DL0R, DL1R"
   ]
  },
  {
   "cell_type": "code",
   "execution_count": 20,
   "metadata": {
    "collapsed": false
   },
   "outputs": [],
   "source": [
    "# Step four: Calculate up-pass likelihood for each node\n",
    "\n",
    "\n",
    "# Up-pass likelihood has two parts:\n",
    "# First part: Up-pass-partial-downpass\n",
    "# This is equivalent to the partial downpass likelihood of the node's parent given only the node's siblings.\n",
    "\n",
    "# Second part: Up-pass-partial-uppass\n",
    "# This is equivalent to the partial upass likelihood of the node's parent given only the node's\n",
    "# parent's siblings. There is no uppass likelihood for the root, so all children of the root have this set to 1\n",
    "\n",
    "\n",
    "# Node F\n",
    "# ULXM_m_N_PD = up-pass-partial-downpass of state X for node N's parent M not counting information from N (M_m_N)\n",
    "UL0R_m_F_PD = P_DL0R_D # Note: more children would be used in this calculation if R had more than 2 children.\n",
    "UL1R_m_F_PD = P_DL1R_D # In this case, only information from F's sibling D is used.\n",
    "\n",
    "# ULXM_m_N_PU = up-pass-partial-uppass of state X for node N's parent M not counting information from M.\n",
    "\n",
    "# We need to calculate the equilibrium frequency of the Q matrix to use as the\n",
    "# up-pass likelihood at the root\n",
    "# There is a function in ivy that does this\n",
    "R_EQ = ivy.chars.mk.qsd(Q)\n",
    "# R_EQX = equilibrium frequency of state X\n",
    "R_EQ0 = R_EQ[0]\n",
    "R_EQ1 = R_EQ[1]\n",
    "\n",
    "UL0R_m_F_PU = R_EQ0 # Set to EQUILIBRIUM FREQUENCY because F's parent is the root\n",
    "UL1R_m_F_PU = R_EQ1\n",
    "\n",
    "# ULXM_m_N = Up-pass likelihood of node N's parent M for state X\n",
    "UL0R_m_F = UL0R_m_F_PD * UL0R_m_F_PU\n",
    "UL1R_m_F = UL1R_m_F_PD * UL1R_m_F_PU\n",
    "\n",
    "# ULXN = Up-pass likelihood of node N being in state X\n",
    "UL0F = UL0R_m_F * P00F + UL1R_m_F * P10F\n",
    "UL1F = UL0R_m_F * P01F + UL1R_m_F * P11F\n",
    "\n",
    "# Node E\n",
    "UL0F_m_E_PD = P_DL0F_C\n",
    "UL1F_m_E_PD = P_DL1F_C\n",
    "\n",
    "# When parent is not the root, up-pass-partial-uppass likelihood is equivalent to the up-pass\n",
    "# likelihood of the parent node (information from parent node - parent node) times the transition\n",
    "# probability of the parent's state to the child's state\n",
    "UL0F_m_E_PU = (UL0R_m_F*P00F) + (UL1R_m_F * P10F)\n",
    "UL1F_m_E_PU = (UL0R_m_F*P01F) + (UL1R_m_F * P11F)\n",
    "\n",
    "UL0F_m_E =  UL0F_m_E_PD * UL0F_m_E_PU\n",
    "UL1F_m_E =  UL1F_m_E_PD * UL1F_m_E_PU\n",
    "\n",
    "UL0E = UL0F_m_E * P00E + UL1F_m_E * P10E\n",
    "UL1E = UL0F_m_E * P01E + UL1F_m_E * P11E"
   ]
  },
  {
   "cell_type": "code",
   "execution_count": 21,
   "metadata": {
    "collapsed": false
   },
   "outputs": [
    {
     "name": "stdout",
     "output_type": "stream",
     "text": [
      "0.362332241029 0.137667758971\n",
      "0.387202909024 0.112797090976\n",
      "0.277235661147 0.0480628918308\n",
      "0.302605402758 0.0226931502199\n"
     ]
    }
   ],
   "source": [
    "print UL0F, UL1F\n",
    "print UL0R_m_F, UL1R_m_F\n",
    "print UL0E, UL1E\n",
    "print UL0F_m_E, UL1F_m_E\n"
   ]
  },
  {
   "cell_type": "code",
   "execution_count": 23,
   "metadata": {
    "collapsed": false
   },
   "outputs": [
    {
     "name": "stdout",
     "output_type": "stream",
     "text": [
      "0.0249407338127 0.0170820426801\n",
      "0.00227738975697 0.0397453867358\n",
      "\n",
      "0.593505139219 0.406494860781\n",
      "0.0541941762787 0.945805823721\n"
     ]
    }
   ],
   "source": [
    "# Step five: calculate the marginal at each root\n",
    "# Marginal is equivalent to up-pass * down-pass\n",
    "\n",
    "# MLXN = marginal likelihood of node N being in state X\n",
    "ML0F = UL0F * DL0F\n",
    "ML1F = UL1F * DL1F\n",
    "\n",
    "ML0E = UL0E * DL0E\n",
    "ML1E = UL1E * DL1E\n",
    "\n",
    "print ML0F, ML1F\n",
    "print ML0E, ML1E\n",
    "print\n",
    "print ML0F/(ML0F + ML1F), ML1F/(ML0F + ML1F)\n",
    "print ML0E/(ML0E + ML1E), ML1E/(ML0E + ML1E)"
   ]
  },
  {
   "cell_type": "code",
   "execution_count": null,
   "metadata": {
    "collapsed": true
   },
   "outputs": [],
   "source": []
  }
 ],
 "metadata": {
  "kernelspec": {
   "display_name": "Python 2",
   "language": "python",
   "name": "python2"
  },
  "language_info": {
   "codemirror_mode": {
    "name": "ipython",
    "version": 2
   },
   "file_extension": ".py",
   "mimetype": "text/x-python",
   "name": "python",
   "nbconvert_exporter": "python",
   "pygments_lexer": "ipython2",
   "version": "2.7.6"
  }
 },
 "nbformat": 4,
 "nbformat_minor": 0
}
