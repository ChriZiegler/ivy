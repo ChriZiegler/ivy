{
 "cells": [
  {
   "cell_type": "code",
   "execution_count": 1,
   "metadata": {
    "collapsed": false
   },
   "outputs": [],
   "source": [
    "%matplotlib inline\n",
    "\n",
    "import ivy\n",
    "from ivy.chars import bayesian_models\n",
    "from ivy.chars import discrete\n",
    "from ivy import vis\n",
    "import pymc\n",
    "import numpy as np\n",
    "import scipy\n",
    "import matplotlib.pyplot as plt"
   ]
  },
  {
   "cell_type": "code",
   "execution_count": 2,
   "metadata": {
    "collapsed": true
   },
   "outputs": [],
   "source": [
    "# There are a variety of scenarios we would like to test the Mk model under\n",
    "\n",
    "# Single-regime ER tree+chars\n",
    "#  * Single-regime model\n",
    "#  * 2-regime model\n",
    "#  * n-regime model\n",
    "# 2-regime ER tree+chars\n",
    "#  * Single-regime model\n",
    "#  * 2-regime model\n",
    "#  * n-regime model\n",
    "# Single-regime ARD tree+chars\n",
    "#  * Single-regime model\n",
    "#  * 2-regime model\n",
    "#  * n-regime model\n",
    "# 2-regime ARD tree+chars\n",
    "#  * single-regime model\n",
    "#  * 2-regime model\n",
    "#  * n-regime model"
   ]
  },
  {
   "cell_type": "code",
   "execution_count": null,
   "metadata": {
    "collapsed": false
   },
   "outputs": [],
   "source": [
    "#########################################\n",
    "# Test One: Single-regime ER tree+chars #\n",
    "#########################################\n",
    "# * Single-regime model\n",
    "# * Multi-regime model\n",
    "\n",
    "# We want to see how the two models compare\n",
    "# Ideally, we won't find support for the multi-regime model over the single-regime model\n",
    "\n",
    "# We will use the same tree for all tests, but with different character states\n",
    "tree = ivy.tree.read(\"../ivy/tests/support/Mk_two_regime_tree.newick\")\n",
    "\n",
    "# Character states generated under a single regime.\n",
    "sr_chars = [1, 1, 1, 1, 1, 1, 1, 0, 0, 1, 0, 0, 0, 0, 0, 0, 0, 0, 0, 0,\n",
    "            0, 0, 0, 0, 0, 0, 0, 0, 0, 0, 0, 0, 0, 0, 0, 0, 0, 1, 1, 1, 1,\n",
    "            1, 1, 1, 1, 1, 1, 1, 1, 1, 1, 0, 1, 1, 1, 1, 1, 1, 1, 1, 1, 1,\n",
    "            1, 1, 1, 1, 1, 1, 1, 1, 1, 1, 0, 0, 1, 1, 1, 1, 1, 1, 1, 1, 1,\n",
    "            1, 1, 1, 1, 1, 1, 1, 1, 1, 1, 1, 1, 0, 0, 0, 0, 0, 0, 0, 0, 0,\n",
    "            0, 0, 0, 0, 1, 1, 1, 1, 1, 1, 1, 1, 1, 1, 1, 1, 1, 1, 1, 1, 1,\n",
    "            1, 1, 1, 1, 1, 1, 1, 1, 1, 1, 1, 1, 1, 1, 1, 1, 1, 1, 1, 1, 1,\n",
    "            1, 1, 1, 1, 1, 1, 1, 1, 1, 1, 1, 1, 0, 1, 1, 1, 1, 1, 1, 1, 1,\n",
    "            1, 1, 1, 1, 1, 1, 1, 1, 1, 1, 1, 1, 1, 1, 1, 1, 1, 1, 1, 1, 1,\n",
    "            1, 1, 1, 1, 1, 1, 1, 1, 1, 1, 1, 1, 1, 1, 1, 1, 1, 1, 1, 1, 1,\n",
    "            1, 1, 1, 1, 1, 1, 1, 1, 1, 1, 1, 1, 1, 1, 1, 1, 1, 1, 1, 1, 1,\n",
    "            1, 1, 1, 1, 1, 0, 1, 1, 1, 1, 1, 1, 1, 1, 1, 1, 1, 1, 1, 1, 1,\n",
    "            1, 1, 1, 1, 1, 1, 1, 1, 0, 1, 1, 1, 1, 1, 1, 1, 1, 1, 1, 1, 0,\n",
    "            0, 0, 1, 1, 1, 1, 1, 1, 1, 1, 1, 1, 1, 1, 1, 1, 1, 1, 1, 1, 1,\n",
    "            1, 1, 1, 1, 1, 1, 1]\n",
    "\n",
    "# The Q-matrix used to generate these character states\n",
    "sr_Q = np.array([[-0.3,0.3],\n",
    "                 [0.3,-0.3]])"
   ]
  },
  {
   "cell_type": "code",
   "execution_count": null,
   "metadata": {
    "collapsed": false
   },
   "outputs": [
    {
     "name": "stdout",
     "output_type": "stream",
     "text": [
      " [---------        26%                  ] 1301 of 5000 complete in 12.2 sec"
     ]
    }
   ],
   "source": [
    "# Creating models and sampling\n",
    "\n",
    "###### \n",
    "# Single-regime data, single-regime model\n",
    "######\n",
    "sr_srmodel = bayesian_models.create_mk_model(tree, sr_chars, Qtype=\"ER\", pi=\"Fitzjohn\")\n",
    "sr_srMCMC = pymc.MCMC(sr_srmodel)\n",
    "sr_srMCMC.sample(5000, burn=500, thin=3)"
   ]
  },
  {
   "cell_type": "code",
   "execution_count": null,
   "metadata": {
    "collapsed": false,
    "scrolled": false
   },
   "outputs": [],
   "source": [
    "# Checking the output\n",
    "\n",
    "# This model has only one parameter: the single rate for the Q matrix\n",
    "# What does the trace look like?\n",
    "sr_srtraceplot = plt.plot(sr_srMCMC.trace(\"Qparams\")[:])\n"
   ]
  },
  {
   "cell_type": "code",
   "execution_count": null,
   "metadata": {
    "collapsed": false,
    "scrolled": true
   },
   "outputs": [],
   "source": [
    "# What does the histogram look like?\n",
    "sr_srhist = plt.hist(sr_srMCMC.trace(\"Qparams\")[:])"
   ]
  },
  {
   "cell_type": "code",
   "execution_count": null,
   "metadata": {
    "collapsed": false
   },
   "outputs": [],
   "source": [
    "# The 2.5th, 50th, and 97.5th percentiles\n",
    "print np.percentile(sr_srMCMC.trace(\"Qparams\")[:], [2.5,50,97.5])"
   ]
  },
  {
   "cell_type": "code",
   "execution_count": null,
   "metadata": {
    "collapsed": false
   },
   "outputs": [],
   "source": [
    "# Calculating the log-likelihood using the median value for Q\n",
    "sr_srmedianQ = np.percentile(sr_srMCMC.trace(\"Qparams\")[:],50)\n",
    "sr_srQ = np.array([[-sr_srmedianQ,sr_srmedianQ],[sr_srmedianQ,-sr_srmedianQ]])\n",
    "\n",
    "sr_srli = discrete.mk(tree, sr_chars, Q = sr_srQ, pi=\"Fitzjohn\")\n",
    "sr_srli"
   ]
  },
  {
   "cell_type": "code",
   "execution_count": null,
   "metadata": {
    "collapsed": false
   },
   "outputs": [],
   "source": [
    "##########\n",
    "#Single-regime data, multi-regime model\n",
    "##########"
   ]
  },
  {
   "cell_type": "code",
   "execution_count": null,
   "metadata": {
    "collapsed": false
   },
   "outputs": [],
   "source": [
    "sr_mrmodel = bayesian_models.create_multi_mk_model(tree, sr_chars, Qtype=\"ER\", pi=\"Fitzjohn\", nregime=2)\n",
    "sr_mrMCMC = pymc.MCMC(sr_mrmodel)\n",
    "sr_mrMCMC.sample(5000, burn=500, thin=3)"
   ]
  },
  {
   "cell_type": "code",
   "execution_count": null,
   "metadata": {
    "collapsed": false
   },
   "outputs": [],
   "source": [
    "# This model has 3 parameters: Q parameters for each of the two regimes, plus the location of the switchpoint\n",
    "# Trace plots for the two Q parameters\n",
    "\n",
    "# The way the model is set up, the first Q parameter corresponds to the branches descended from the switchpoint\n",
    "# The second Q parameter corresponds to all other branches\n",
    "\n",
    "sr_mrtraceplotQ1 = plt.plot([ i[0][0] for i in sr_mrMCMC.trace(\"Qparams_scaled\")[:]])\n"
   ]
  },
  {
   "cell_type": "code",
   "execution_count": null,
   "metadata": {
    "collapsed": false
   },
   "outputs": [],
   "source": [
    "sr_mrtraceplotQ2 = plt.plot([ i[0][1] for i in sr_mrMCMC.trace(\"Qparams_scaled\")[:]])\n"
   ]
  },
  {
   "cell_type": "code",
   "execution_count": null,
   "metadata": {
    "collapsed": false
   },
   "outputs": [],
   "source": [
    "sr_mrtraceplotSwitch = plt.plot(sr_mrMCMC.trace(\"switch\")[:])\n"
   ]
  },
  {
   "cell_type": "code",
   "execution_count": null,
   "metadata": {
    "collapsed": false
   },
   "outputs": [],
   "source": [
    "# Histograms\n",
    "sr_mrhistQ1 = plt.hist([ i[0][0] for i in sr_mrMCMC.trace(\"Qparams_scaled\")[:]])"
   ]
  },
  {
   "cell_type": "code",
   "execution_count": null,
   "metadata": {
    "collapsed": false
   },
   "outputs": [],
   "source": [
    "sr_mrhistQ2 = plt.hist([ i[0][1] for i in sr_mrMCMC.trace(\"Qparams_scaled\")[:]])"
   ]
  },
  {
   "cell_type": "code",
   "execution_count": null,
   "metadata": {
    "collapsed": false
   },
   "outputs": [],
   "source": [
    "sr_mrhistswitch = plt.hist(sr_mrMCMC.trace(\"switch\")[:])"
   ]
  },
  {
   "cell_type": "code",
   "execution_count": null,
   "metadata": {
    "collapsed": false
   },
   "outputs": [],
   "source": [
    "# Percentiles for both Q parameters\n",
    "\n",
    "print np.percentile([ i[0][0] for i in sr_mrMCMC.trace(\"Qparams_scaled\")[:]], [2.5,50,97.5])\n",
    "print np.percentile([ i[0][1] for i in sr_mrMCMC.trace(\"Qparams_scaled\")[:]], [2.5,50,97.5])"
   ]
  },
  {
   "cell_type": "code",
   "execution_count": null,
   "metadata": {
    "collapsed": false
   },
   "outputs": [],
   "source": [
    "# Mode of switch location\n",
    "int(scipy.stats.mode(sr_mrMCMC.trace(\"switch\")[:])[0])\n"
   ]
  },
  {
   "cell_type": "code",
   "execution_count": null,
   "metadata": {
    "collapsed": false
   },
   "outputs": [],
   "source": [
    "# Likelihood calculation\n",
    "sr_mrQ1 = np.percentile([ i[0][0] for i in sr_mrMCMC.trace(\"Qparams_scaled\")[:]], 50)\n",
    "sr_mrQ2 = np.percentile([ i[0][1] for i in sr_mrMCMC.trace(\"Qparams_scaled\")[:]], 50)\n",
    "\n",
    "sr_mrQs = np.array([[[-sr_mrQ1,sr_mrQ1],[sr_mrQ1,-sr_mrQ1]],\n",
    "                    [[-sr_mrQ2,sr_mrQ2],[sr_mrQ2,-sr_mrQ2]]])\n",
    "\n",
    "sr_mrSwitch = int(scipy.stats.mode(sr_mrMCMC.trace(\"switch\")[:])[0])\n",
    "\n",
    "sr_mrli = discrete.mk_multi_regime(tree, sr_chars, sr_mrQs, discrete.locs_from_switchpoint(tree,tree[sr_mrSwitch]),\n",
    "                                  pi = \"Fitzjohn\")\n",
    "\n",
    "sr_mrli"
   ]
  },
  {
   "cell_type": "code",
   "execution_count": null,
   "metadata": {
    "collapsed": false
   },
   "outputs": [],
   "source": [
    "# We can do a likelihood ratio test because this is a case of nested models.\n",
    "\n",
    "sr_lr = -2*sr_srli + 2*sr_mrli\n",
    "\n",
    "# Model 1 has 1 df, model 2 has 3 df, this chisq distribution has 3-1 df\n",
    "1-scipy.stats.chi2.cdf(sr_lr, 2)"
   ]
  },
  {
   "cell_type": "code",
   "execution_count": null,
   "metadata": {
    "collapsed": false
   },
   "outputs": [],
   "source": [
    "# No support for the 2-regime model over the 1-regime model, as expected"
   ]
  },
  {
   "cell_type": "code",
   "execution_count": null,
   "metadata": {
    "collapsed": true
   },
   "outputs": [],
   "source": [
    "#########################################\n",
    "# Test Two: Multi-regime ER tree+chars #\n",
    "#########################################\n",
    "# * Single-regime model\n",
    "# * Multi-regime model\n",
    "\n",
    "# This time, we hope that the likelihood-ratio test shows support for the two-regime model\n",
    "\n",
    "# The characters simulated under a two-regime model\n",
    "mr_chars = [0, 0, 0, 0, 0, 0, 0, 0, 0, 0, 1, 1, 1, 1, 1, 1, 1, 1, 1, 1,\n",
    "            1, 1, 1, 1, 1, 1, 1, 1, 1, 1, 1, 1, 1, 1, 1, 1, 1, 0, 0, 0, 0,\n",
    "            0, 0, 0, 0, 0, 0, 0, 0, 0, 0, 0, 0, 0, 0, 0, 0, 0, 0, 0, 0, 0,\n",
    "            0, 0, 0, 0, 0, 0, 0, 0, 0, 0, 0, 0, 0, 0, 0, 0, 0, 0, 0, 0, 0,\n",
    "            0, 0, 0, 0, 0, 0, 0, 1, 0, 0, 0, 0, 0, 0, 0, 0, 0, 0, 0, 0, 0,\n",
    "            0, 0, 0, 1, 0, 0, 0, 0, 0, 0, 0, 0, 0, 0, 0, 1, 0, 0, 0, 1, 0,\n",
    "            0, 0, 0, 0, 0, 0, 0, 0, 0, 0, 0, 0, 0, 1, 0, 1, 1, 1, 1, 1, 1,\n",
    "            0, 1, 1, 0, 0, 0, 0, 0, 0, 0, 0, 1, 1, 1, 1, 1, 1, 1, 1, 1, 1,\n",
    "            0, 0, 0, 0, 0, 0, 0, 1, 1, 1, 0, 0, 0, 0, 1, 1, 1, 1, 0, 0, 0,\n",
    "            0, 0, 0, 0, 0, 1, 0, 0, 0, 0, 0, 0, 0, 0, 1, 0, 0, 0, 0, 1, 1,\n",
    "            1, 1, 1, 1, 1, 1, 1, 1, 1, 1, 1, 1, 1, 1, 1, 1, 1, 1, 1, 1, 1,\n",
    "            1, 1, 1, 1, 1, 1, 1, 1, 1, 1, 1, 1, 1, 1, 1, 1, 1, 1, 1, 1, 1,\n",
    "            1, 1, 1, 1, 1, 1, 1, 1, 1, 1, 1, 0, 0, 0, 0, 0, 0, 0, 0, 0, 0,\n",
    "            0, 0, 0, 0, 0, 0, 0, 0, 0, 0, 0, 0, 0, 0, 0, 0, 0, 0, 0, 0, 0,\n",
    "            0, 0, 0, 0, 0, 0, 0]\n",
    "\n",
    "# The Q-matrices used to generate the character states\n",
    "trueFastQ = np.array([[-.8,.8], [.8,-.8]])\n",
    "trueSlowQ = np.array([[-.1,.1], [.1,-.1]])\n",
    "trueQs = np.array([trueFastQ,trueSlowQ])"
   ]
  },
  {
   "cell_type": "code",
   "execution_count": null,
   "metadata": {
    "collapsed": false
   },
   "outputs": [],
   "source": [
    "###### \n",
    "# Multi-regime data, single-regime model\n",
    "######\n",
    "mr_srmodel = bayesian_models.create_mk_model(tree, mr_chars, Qtype=\"ER\", pi=\"Fitzjohn\")\n",
    "mr_srMCMC = pymc.MCMC(mr_srmodel)\n",
    "mr_srMCMC.sample(5000, burn=500, thin=3)"
   ]
  },
  {
   "cell_type": "code",
   "execution_count": null,
   "metadata": {
    "collapsed": false
   },
   "outputs": [],
   "source": [
    "# Checking the output\n",
    "\n",
    "# This model has only one parameter: the single rate for the Q matrix\n",
    "# What does the trace look like?\n",
    "mr_srtraceplot = plt.plot(mr_srMCMC.trace(\"Qparams\")[:])\n"
   ]
  },
  {
   "cell_type": "code",
   "execution_count": null,
   "metadata": {
    "collapsed": false
   },
   "outputs": [],
   "source": [
    "# What does the histogram look like?\n",
    "mr_srhist = plt.hist(mr_srMCMC.trace(\"Qparams\")[:])"
   ]
  },
  {
   "cell_type": "code",
   "execution_count": null,
   "metadata": {
    "collapsed": false
   },
   "outputs": [],
   "source": [
    "# The 2.5th, 50th, and 97.5th percentiles\n",
    "print np.percentile(mr_srMCMC.trace(\"Qparams\")[:], [2.5,50,97.5])"
   ]
  },
  {
   "cell_type": "code",
   "execution_count": null,
   "metadata": {
    "collapsed": false
   },
   "outputs": [],
   "source": [
    "# Calculating the log-likelihood using the median value for Q\n",
    "mr_srmedianQ = np.percentile(mr_srMCMC.trace(\"Qparams\")[:],50)\n",
    "mr_srQ = np.array([[-mr_srmedianQ,mr_srmedianQ],[mr_srmedianQ,-mr_srmedianQ]])\n",
    "\n",
    "mr_srli = discrete.mk(tree, mr_chars, Q = mr_srQ, pi=\"Fitzjohn\")\n",
    "mr_srli"
   ]
  },
  {
   "cell_type": "code",
   "execution_count": null,
   "metadata": {
    "collapsed": false
   },
   "outputs": [],
   "source": [
    "##########\n",
    "# Multi-regime data, multi-regime model\n",
    "##########\n",
    "mr_mrmodel = bayesian_models.create_multi_mk_model(tree, mr_chars, Qtype=\"ER\", pi=\"Fitzjohn\", nregime=2)\n",
    "mr_mrMCMC = pymc.MCMC(mr_mrmodel)\n",
    "mr_mrMCMC.sample(5000, burn=500, thin=3)"
   ]
  },
  {
   "cell_type": "code",
   "execution_count": null,
   "metadata": {
    "collapsed": false
   },
   "outputs": [],
   "source": [
    "# This model has 3 parameters: Q parameters for each of the two regimes, plus the location of the switchpoint\n",
    "# Trace plots for the two Q parameters\n",
    "\n",
    "# The way the model is set up, the first Q parameter corresponds to the branches descended from the switchpoint\n",
    "# The second Q parameter corresponds to all other branches\n",
    "\n",
    "mr_mrtraceplotQ1 = plt.plot([ i[0][0] for i in mr_mrMCMC.trace(\"Qparams_scaled\")[:]])"
   ]
  },
  {
   "cell_type": "code",
   "execution_count": null,
   "metadata": {
    "collapsed": false
   },
   "outputs": [],
   "source": [
    "mr_mrtraceplotQ2 = plt.plot([ i[0][1] for i in mr_mrMCMC.trace(\"Qparams_scaled\")[:]])\n"
   ]
  },
  {
   "cell_type": "code",
   "execution_count": null,
   "metadata": {
    "collapsed": false
   },
   "outputs": [],
   "source": [
    "mr_mrtraceplotSwitch = plt.plot(mr_mrMCMC.trace(\"switch\")[:])\n",
    "# Not entirely sure what we want this plot to look like"
   ]
  },
  {
   "cell_type": "code",
   "execution_count": null,
   "metadata": {
    "collapsed": false
   },
   "outputs": [],
   "source": [
    "# Histograms\n",
    "mr_mrhistQ1 = plt.hist([ i[0][0] for i in mr_mrMCMC.trace(\"Qparams_scaled\")[:]])"
   ]
  },
  {
   "cell_type": "code",
   "execution_count": null,
   "metadata": {
    "collapsed": false
   },
   "outputs": [],
   "source": [
    "# Histograms\n",
    "mr_mrhistQ2 = plt.hist([ i[0][1] for i in mr_mrMCMC.trace(\"Qparams_scaled\")[:]])"
   ]
  },
  {
   "cell_type": "code",
   "execution_count": null,
   "metadata": {
    "collapsed": false
   },
   "outputs": [],
   "source": [
    "# Histograms\n",
    "mr_mrhistSwitch = plt.hist(mr_mrMCMC.trace(\"switch\")[:])"
   ]
  },
  {
   "cell_type": "code",
   "execution_count": null,
   "metadata": {
    "collapsed": false
   },
   "outputs": [],
   "source": [
    "# Note: the true switchpoint is node 216. 181 is the node right next to it\n",
    "\n",
    "# Percentiles for both Q parameters\n",
    "\n",
    "print np.percentile([ i[0][0] for i in mr_mrMCMC.trace(\"Qparams_scaled\")[:]], [2.5,50,97.5])\n",
    "print np.percentile([ i[0][1] for i in mr_mrMCMC.trace(\"Qparams_scaled\")[:]], [2.5,50,97.5])"
   ]
  },
  {
   "cell_type": "code",
   "execution_count": null,
   "metadata": {
    "collapsed": false
   },
   "outputs": [],
   "source": [
    "int(scipy.stats.mode(mr_mrMCMC.trace(\"switch\")[:])[0])\n"
   ]
  },
  {
   "cell_type": "code",
   "execution_count": null,
   "metadata": {
    "collapsed": false
   },
   "outputs": [],
   "source": [
    "# Likelihood calculation\n",
    "mr_mrQ1 = np.percentile([ i[0][0] for i in mr_mrMCMC.trace(\"Qparams_scaled\")[:]], 50)\n",
    "mr_mrQ2 = np.percentile([ i[0][1] for i in mr_mrMCMC.trace(\"Qparams_scaled\")[:]], 50)\n",
    "\n",
    "mr_mrQs = np.array([[[-mr_mrQ1,mr_mrQ1],[mr_mrQ1,-mr_mrQ1]],\n",
    "                    [[-mr_mrQ2,mr_mrQ2],[mr_mrQ2,-mr_mrQ2]]])\n",
    "\n",
    "mr_mrSwitch = int(scipy.stats.mode(mr_mrMCMC.trace(\"switch\")[:])[0])\n",
    "\n",
    "mr_mrli = discrete.mk_multi_regime(tree, mr_chars, mr_mrQs, discrete.locs_from_switchpoint(tree,tree[mr_mrSwitch]),\n",
    "                                  pi = \"Fitzjohn\")\n",
    "\n",
    "mr_mrli"
   ]
  },
  {
   "cell_type": "code",
   "execution_count": null,
   "metadata": {
    "collapsed": false
   },
   "outputs": [],
   "source": [
    "# We can do a likelihood ratio test because this is a case of nested models.\n",
    "\n",
    "mr_lr = -2*mr_srli + 2*mr_mrli\n",
    "\n",
    "# Model 1 has 1 df, model 2 has 3 df, this chisq distribution has 3-1 df\n",
    "1-scipy.stats.chi2.cdf(mr_lr, 2)"
   ]
  },
  {
   "cell_type": "code",
   "execution_count": null,
   "metadata": {
    "collapsed": true
   },
   "outputs": [],
   "source": [
    "# Strong support in favor of the multi-regime model"
   ]
  },
  {
   "cell_type": "code",
   "execution_count": null,
   "metadata": {
    "collapsed": true
   },
   "outputs": [],
   "source": [
    "#########################################\n",
    "# Test One: Single-regime ARD tree+chars #\n",
    "#########################################\n",
    "srARD_chars = [0, 0, 0, 0, 1, 1, 1, 0, 0, 0, 0, 0, 0, 0, 0, 0, 0, 0, 0, 0, \n",
    "            0, 0, 0, 0, 0, 0, 0, 0, 0, 0, 0, 0, 0, 0, 0, 0, 1, 0, 0, 0, 0, \n",
    "            0, 0, 0, 0, 0, 0, 0, 0, 0, 0, 0, 0, 1, 1, 1, 0, 0, 0, 0, 0, 0, \n",
    "            0, 0, 0, 0, 0, 0, 0, 0, 0, 0, 0, 0, 0, 0, 1, 1, 1, 1, 1, 1, 0, \n",
    "            0, 0, 0, 0, 0, 0, 0, 0, 0, 0, 0, 0, 1, 0, 0, 0, 0, 0, 0, 0, 0, \n",
    "            0, 0, 0, 0, 0, 0, 0, 0, 0, 0, 0, 0, 0, 0, 0, 1, 1, 1, 1, 0, 1, \n",
    "            1, 1, 0, 0, 0, 1, 0, 0, 0, 0, 0, 0, 1, 0, 0, 0, 0, 0, 0, 0, 0, \n",
    "            0, 0, 1, 0, 0, 0, 0, 0, 0, 0, 0, 0, 0, 0, 1, 1, 0, 0, 0, 0, 0, \n",
    "            0, 0, 0, 0, 0, 0, 0, 0, 0, 0, 0, 0, 0, 0, 0, 0, 0, 0, 0, 0, 0, \n",
    "            1, 1, 1, 1, 1, 0, 1, 0, 0, 0, 0, 0, 0, 0, 0, 0, 0, 0, 0, 1, 1, \n",
    "            1, 1, 1, 1, 1, 1, 1, 1, 1, 1, 1, 1, 1, 1, 1, 1, 1, 1, 1, 1, 1, \n",
    "            1, 1, 1, 1, 1, 1, 1, 1, 1, 1, 1, 1, 1, 1, 1, 1, 1, 1, 1, 1, 1, \n",
    "            1, 1, 1, 1, 1, 1, 1, 1, 1, 1, 1, 1, 1, 0, 0, 0, 0, 1, 1, 1, 0, \n",
    "            0, 0, 0, 0, 0, 0, 0, 0, 0, 0, 0, 0, 1, 1, 1, 1, 1, 0, 1, 1, 0, \n",
    "            0, 0, 0, 1, 0, 0, 0]\n",
    "# The Q-matrix used to generate this model\n",
    "srARD_Q = np.array([[-0.7,0.7],\n",
    "                 [0.1,-0.1]])"
   ]
  },
  {
   "cell_type": "code",
   "execution_count": null,
   "metadata": {
    "collapsed": false
   },
   "outputs": [],
   "source": [
    "# Creating models and sampling\n",
    "\n",
    "###### \n",
    "# Single-regime ARD data, single-regime model\n",
    "######\n",
    "srARD_srmodel = bayesian_models.create_mk_model(tree, srARD_chars, Qtype=\"ARD\", pi=\"Fitzjohn\")\n",
    "srARD_srMCMC = pymc.MCMC(srARD_srmodel)\n",
    "srARD_srMCMC.sample(5000, burn=500, thin=3)"
   ]
  },
  {
   "cell_type": "code",
   "execution_count": null,
   "metadata": {
    "collapsed": false,
    "scrolled": false
   },
   "outputs": [],
   "source": [
    "# Checking the output\n",
    "\n",
    "# This model has two parameters one for the forward and one for the reverse rate\n",
    "# What does the trace look like?\n",
    "srARD_srtraceplotQ01 = plt.plot([i[0] for i in srARD_srMCMC.trace(\"Qparams\")[:]])\n"
   ]
  },
  {
   "cell_type": "code",
   "execution_count": null,
   "metadata": {
    "collapsed": false
   },
   "outputs": [],
   "source": [
    "srARD_srtraceplotQ10 = plt.plot([i[1] for i in srARD_srMCMC.trace(\"Qparams\")[:]])"
   ]
  },
  {
   "cell_type": "code",
   "execution_count": null,
   "metadata": {
    "collapsed": false
   },
   "outputs": [],
   "source": [
    "# What does the histogram look like?\n",
    "srARD_srhistQ01 = plt.hist([i[0] for i in srARD_srMCMC.trace(\"Qparams\")[:]])\n"
   ]
  },
  {
   "cell_type": "code",
   "execution_count": null,
   "metadata": {
    "collapsed": false
   },
   "outputs": [],
   "source": [
    "srARD_srhistQ10 = plt.hist([i[1] for i in srARD_srMCMC.trace(\"Qparams\")[:]])\n"
   ]
  },
  {
   "cell_type": "code",
   "execution_count": null,
   "metadata": {
    "collapsed": false
   },
   "outputs": [],
   "source": [
    "# The 2.5th, 50th, and 97.5th percentiles\n",
    "print np.percentile([i[0] for i in srARD_srMCMC.trace(\"Qparams\")[:]], [2.5,50,97.5])\n",
    "print np.percentile([i[1] for i in srARD_srMCMC.trace(\"Qparams\")[:]], [2.5,50,97.5])"
   ]
  },
  {
   "cell_type": "code",
   "execution_count": null,
   "metadata": {
    "collapsed": false
   },
   "outputs": [],
   "source": [
    "# Calculating likelihood\n",
    "\n",
    "# Calculating the log-likelihood using the median value for Q\n",
    "srARD_srmedianQ01 = np.percentile([i[0] for i in srARD_srMCMC.trace(\"Qparams\")[:]],50)\n",
    "srARD_srmedianQ10 = np.percentile([i[1] for i in srARD_srMCMC.trace(\"Qparams\")[:]],50)\n",
    "srARD_srQ = np.array([[-srARD_srmedianQ01,srARD_srmedianQ01],[srARD_srmedianQ10,-srARD_srmedianQ10]])\n",
    "\n",
    "srARD_srli = discrete.mk(tree, srARD_chars, Q = srARD_srQ, pi=\"Fitzjohn\")\n",
    "srARD_srli"
   ]
  },
  {
   "cell_type": "code",
   "execution_count": null,
   "metadata": {
    "collapsed": false,
    "scrolled": false
   },
   "outputs": [],
   "source": [
    "\n",
    "###### \n",
    "# Single-regime ARD data, multi-regime model\n",
    "######\n",
    "srARD_mrmodel = bayesian_models.create_multi_mk_model(tree, srARD_chars, Qtype=\"ARD\", pi=\"Fitzjohn\", nregime=2)\n",
    "srARD_mrMCMC = pymc.MCMC(srARD_mrmodel)\n",
    "srARD_mrMCMC.sample(5000, burn=500, thin=3)"
   ]
  },
  {
   "cell_type": "code",
   "execution_count": null,
   "metadata": {
    "collapsed": true
   },
   "outputs": [],
   "source": [
    "# This model has 5 parameters: 2 Q parameters for each of the two regimes, plus the location of the switchpoint\n",
    "# Trace plots for the two Q parameters\n",
    "\n",
    "# The way the model is set up, the first set of Q parameters corresponds to the branches descended from the switchpoint\n",
    "# The second set corresponds to all other branches\n",
    "\n",
    "sr_mrtraceplotQ1 = plt.plot([ i[0][0] for i in sr_mrMCMC.trace(\"Qparams_scaled\")[:]])\n"
   ]
  },
  {
   "cell_type": "code",
   "execution_count": null,
   "metadata": {
    "collapsed": true
   },
   "outputs": [],
   "source": []
  },
  {
   "cell_type": "code",
   "execution_count": null,
   "metadata": {
    "collapsed": true
   },
   "outputs": [],
   "source": []
  },
  {
   "cell_type": "code",
   "execution_count": null,
   "metadata": {
    "collapsed": true
   },
   "outputs": [],
   "source": []
  },
  {
   "cell_type": "code",
   "execution_count": null,
   "metadata": {
    "collapsed": true
   },
   "outputs": [],
   "source": [
    "mrARD_chars = [0, 0, 0, 0, 0, 0, 0, 0, 0, 0, 1, 1, 0, 0, 0, 0, 0, 0, 0, 0, \n",
    "            0, 0, 0, 0, 0, 0, 0, 0, 0, 0, 0, 0, 0, 0, 0, 0, 1, 0, 0, 0, 0, \n",
    "            0, 0, 0, 0, 0, 0, 0, 0, 0, 0, 0, 0, 0, 0, 0, 0, 0, 0, 0, 0, 0, \n",
    "            0, 0, 0, 0, 0, 0, 0, 0, 0, 0, 0, 0, 0, 0, 0, 0, 0, 0, 0, 0, 0, \n",
    "            0, 0, 0, 0, 0, 0, 0, 0, 0, 0, 0, 0, 0, 0, 0, 0, 0, 0, 0, 0, 0, \n",
    "            0, 0, 0, 0, 0, 0, 0, 0, 0, 0, 0, 0, 1, 1, 0, 0, 0, 0, 0, 0, 0, \n",
    "            0, 0, 1, 1, 1, 0, 0, 0, 1, 0, 1, 1, 1, 0, 0, 0, 1, 0, 0, 0, 0, \n",
    "            0, 0, 1, 0, 0, 0, 0, 0, 0, 0, 0, 0, 0, 0, 0, 0, 0, 0, 0, 0, 0, \n",
    "            0, 0, 1, 1, 1, 1, 1, 1, 1, 1, 0, 0, 0, 0, 0, 0, 0, 0, 0, 1, 0, \n",
    "            0, 1, 0, 0, 0, 0, 0, 0, 0, 0, 0, 0, 0, 0, 0, 0, 1, 1, 0, 0, 0, \n",
    "            0, 0, 0, 0, 0, 0, 0, 0, 0, 0, 0, 0, 0, 0, 0, 1, 0, 0, 0, 0, 0, \n",
    "            0, 0, 0, 1, 0, 0, 0, 0, 0, 1, 1, 1, 0, 0, 0, 0, 0, 0, 0, 0, 0, \n",
    "            0, 0, 1, 0, 0, 0, 0, 0, 0, 0, 0, 0, 1, 1, 0, 0, 0, 0, 0, 0, 1, \n",
    "            1, 1, 0, 0, 0, 0, 0, 0, 0, 0, 0, 0, 0, 0, 0, 0, 0, 0, 0, 0, 0, \n",
    "            0, 0, 0, 0, 0, 0, 1]"
   ]
  }
 ],
 "metadata": {
  "kernelspec": {
   "display_name": "Python 2",
   "language": "python",
   "name": "python2"
  },
  "language_info": {
   "codemirror_mode": {
    "name": "ipython",
    "version": 2
   },
   "file_extension": ".py",
   "mimetype": "text/x-python",
   "name": "python",
   "nbconvert_exporter": "python",
   "pygments_lexer": "ipython2",
   "version": "2.7.6"
  }
 },
 "nbformat": 4,
 "nbformat_minor": 0
}
